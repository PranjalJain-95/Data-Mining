{
 "cells": [
  {
   "cell_type": "markdown",
   "id": "5f4e0033-ee59-40df-84ad-5a159deb421a",
   "metadata": {},
   "source": [
    "## Exam III: CSCI4390-6390 (100 points)\n",
    "\n",
    "This is a take-home exam. It is due 11:59:59pm on Thursday, Dec 8 via submitty. You are expected to abide by the honor code, i.e., all work must be your own, and you are not allowed to discuss any aspect of exam with anyone except the TA or the professor. You are also not allowed to use the internet except to lookup numpy/python documentation, the book site, class notes/videos, or to ask clarification questions on campuswire. **You cannot use any other library other than numpy (e.g., no pytorch, sklearn, etc); you can use pandas only for data processing**. You must sign the declaration below that you will abide by the honor code."
   ]
  },
  {
   "cell_type": "markdown",
   "id": "f78163f5-20e5-427d-9d62-977d2ee7a1e6",
   "metadata": {},
   "source": [
    "#### **Honor Code Declaration**: Please sign with your name to acknowledge that you agree to abide by the honor code, and demonstrate the highest level of academic integrity."
   ]
  },
  {
   "cell_type": "markdown",
   "id": "92536081-83a0-4b65-b3e7-557e384915db",
   "metadata": {},
   "source": [
    "Pranjal Jain"
   ]
  },
  {
   "cell_type": "markdown",
   "id": "110c78be-4a74-44c1-818f-8f5bb77fc69c",
   "metadata": {},
   "source": [
    "#### Download Dataset: Download the [Wine Dataset](https://archive.ics.uci.edu/ml/datasets/wine). It has 14 attributes, and 178 points. The first attribute is the class/cluister variable. Store the dataset in your current directory and use \"./wine.data\" as its name. Do not submit the dataset as part of your answer on submitty. Read in the dataset, and use sklearn MinMaxScaler to scale all the attribute values between 0 and 1 (except for the class attribute). Use this transformed dataset for the **all** the questions below. "
   ]
  },
  {
   "cell_type": "markdown",
   "id": "40b4632d-993f-4479-bbd5-2996fab7aa40",
   "metadata": {},
   "source": [
    "#### Q1. K-Means: (Total 15 points)  For this question, we will use the first attribute as the true class for evaluation, and the remaining 13 attributes as the actual attributes for use in K-means clustering. Use the minmax scaled data. Answer the following:\n",
    "\n",
    "##### a) (10 points) Code and run K-Means with $K=3$ using convergence threshold $\\epsilon=0.001$. Report the i) final means, ii) the number of points in each cluster, and iii) the final SSE value. Set random seed as 42, and find the initial clusters using the \"farthest means\" approach, i.e., after the first mean selected at random as one of the data points, the remaining two means should be points that are the farthest from already selected means.\n",
    "\n",
    "##### b) (5 points) What is the silhouette coefficient for point $x_0$, and the silhouette coefficent for the **ground truth** clustering. Use Euclidean distance for the proximity matrix."
   ]
  },
  {
   "cell_type": "code",
   "execution_count": 146,
   "id": "2f8a0cf8-722d-4ea5-9fb1-a4cdcb1cfa3a",
   "metadata": {},
   "outputs": [],
   "source": [
    "import numpy as np\n",
    "import numpy.linalg as la\n",
    "import pandas as pd\n",
    "import matplotlib.pyplot as plt\n",
    "from sklearn.preprocessing import MinMaxScaler, normalize\n",
    "from scipy.stats import multivariate_normal\n",
    "from scipy.special import logsumexp\n"
   ]
  },
  {
   "cell_type": "code",
   "execution_count": 69,
   "id": "8b12030d-f954-4ccd-aea5-14cb23abe4c9",
   "metadata": {},
   "outputs": [
    {
     "name": "stdout",
     "output_type": "stream",
     "text": [
      "(178,) (178, 13)\n"
     ]
    }
   ],
   "source": [
    "df = pd.read_csv('./wine.data', sep=\",\", header=None)\n",
    "D = np.array(df)\n",
    "y = D[:,0]\n",
    "D = D[:,1:]\n",
    "D = MinMaxScaler().fit_transform(D)\n",
    "print(y.shape,D.shape)"
   ]
  },
  {
   "cell_type": "code",
   "execution_count": 176,
   "id": "f64cc8b5-4543-4115-9b7c-cf68b1790057",
   "metadata": {},
   "outputs": [
    {
     "data": {
      "text/plain": [
       "array([[0.84210526, 0.1916996 , 0.57219251, ..., 0.45528455, 0.97069597,\n",
       "        0.56134094],\n",
       "       [0.57105263, 0.2055336 , 0.4171123 , ..., 0.46341463, 0.78021978,\n",
       "        0.55064194],\n",
       "       [0.56052632, 0.3201581 , 0.70053476, ..., 0.44715447, 0.6959707 ,\n",
       "        0.64693295],\n",
       "       ...,\n",
       "       [0.58947368, 0.69960474, 0.48128342, ..., 0.08943089, 0.10622711,\n",
       "        0.39728959],\n",
       "       [0.56315789, 0.36561265, 0.54010695, ..., 0.09756098, 0.12820513,\n",
       "        0.40085592],\n",
       "       [0.81578947, 0.66403162, 0.73796791, ..., 0.10569106, 0.12087912,\n",
       "        0.20114123]])"
      ]
     },
     "execution_count": 176,
     "metadata": {},
     "output_type": "execute_result"
    }
   ],
   "source": [
    "D"
   ]
  },
  {
   "cell_type": "code",
   "execution_count": 40,
   "id": "19d7317a-1a78-40c0-a981-01a1ad1c5fb0",
   "metadata": {},
   "outputs": [],
   "source": [
    "class KMeans:\n",
    "    def __init__(self, X, num_clusters,eps=0.001):\n",
    "        self.K = num_clusters # np. of clusters\n",
    "        self.max_iterations = 100 # max iteration\n",
    "        self.num_examples, self.num_features = X.shape\n",
    "        self.eps = eps\n",
    "        \n",
    "    # randomly initialize centroids\n",
    "    def initialize_random_centroids(self, X):\n",
    "        centroids = np.zeros((self.K, self.num_features)) # row , column full with zero\n",
    "        centroids[0] = X[np.random.choice(range(self.num_examples))]\n",
    "        dist1 = 0\n",
    "        dist2 = 0\n",
    "        for i in range(X.shape[0]):\n",
    "            if la.norm(centroids[0]-X[i,:])>dist1:\n",
    "                dist1 = la.norm(centroids[0]-X[i,:])\n",
    "                centroids[1] = X[i,:]\n",
    "        for i in range(X.shape[0]):\n",
    "            if (la.norm(centroids[0]-X[i,:]) + la.norm(centroids[1]-X[i,:]))>dist2:\n",
    "                dist2 = la.norm(centroids[0]-X[i,:]) + la.norm(centroids[1]-X[i,:])\n",
    "                centroids[1] = X[i,:]\n",
    "        return centroids\n",
    "    \n",
    "    # create cluster Function\n",
    "    def create_cluster(self, X, centroids):\n",
    "        clusters = [[] for _ in range(self.K)]\n",
    "        for point_idx, point in enumerate(X):\n",
    "            closest_centroid = np.argmin(np.sqrt(np.sum((point-centroids)**2, axis=1))) \n",
    "            clusters[closest_centroid].append(point_idx)\n",
    "        return clusters \n",
    "    \n",
    "    # new centroids\n",
    "    def calculate_new_centroids(self, cluster, X):\n",
    "        centroids = np.zeros((self.K, self.num_features))\n",
    "        for idx, cluster in enumerate(cluster):\n",
    "            new_centroid = np.mean(X[cluster], axis=0) # find the value for new centroids\n",
    "            centroids[idx] = new_centroid\n",
    "        return centroids\n",
    "    \n",
    "    # prediction\n",
    "    def predict_cluster(self, clusters, X):\n",
    "        y_pred = np.zeros(self.num_examples)\n",
    "        for cluster_idx, cluster in enumerate(clusters):\n",
    "            for sample_idx in cluster:\n",
    "                y_pred[sample_idx] = cluster_idx\n",
    "        return y_pred\n",
    "    \n",
    "    #SSE\n",
    "    def get_sse(self,X,clusters,centroids):\n",
    "        sse=0\n",
    "        inter_clust_dist = (la.norm(centroids[0]-centroids[1]) + la.norm(centroids[0]-centroids[2]) + la.norm(centroids[2]-centroids[1]))/3\n",
    "        intra_clust_dist =[]\n",
    "        for k in range(centroids.shape[0]):\n",
    "            dist = 0\n",
    "            for clust in clusters:\n",
    "                for i in clust:\n",
    "                    sse+= la.norm(centroids[k]- X[i,:])\n",
    "                    dist+= la.norm(centroids[k]- X[i,:])\n",
    "            intra_clust_dist.append(dist/len(clust))\n",
    "        return sse, inter_clust_dist, intra_clust_dist\n",
    "    \n",
    "    # fit data\n",
    "    def fit(self, X):\n",
    "        centroids = self.initialize_random_centroids(X) # initialize random centroids\n",
    "        diff =1\n",
    "        while diff>self.eps:\n",
    "            clusters = self.create_cluster(X, centroids) # create cluster\n",
    "            previous_centroids = centroids\n",
    "            centroids = self.calculate_new_centroids(clusters, X) # calculate new centroids\n",
    "            diff = la.norm(centroids - previous_centroids) # calculate difference\n",
    "            sse, inter_clust_dist, intra_clust_dist = self.get_sse(X,clusters,centroids)\n",
    "            #if not diff.any():\n",
    "            #    break\n",
    "        y_pred = self.predict_cluster(clusters, X) # predict function\n",
    "        return y_pred, centroids, clusters, sse, inter_clust_dist, intra_clust_dist\n",
    "            "
   ]
  },
  {
   "cell_type": "code",
   "execution_count": 41,
   "id": "a80ba584-a8b7-482a-8820-f57eba3504d7",
   "metadata": {},
   "outputs": [],
   "source": [
    "np.random.seed(42)\n",
    "num_clusters = 3 # num of cluster\n",
    "Kmeans = KMeans(D, num_clusters)\n",
    "y_pred,centroids, clusters, sse, inter_clust_dist, intra_clust_dist = Kmeans.fit(D)"
   ]
  },
  {
   "cell_type": "code",
   "execution_count": 42,
   "id": "443295e0-3e6a-4a6e-b313-0905f780af40",
   "metadata": {},
   "outputs": [
    {
     "name": "stdout",
     "output_type": "stream",
     "text": [
      "SSE:  450.86755377259027 \n",
      " centroids:  [[0.69129555 0.23837033 0.57630605 0.35265662 0.39765886 0.64986737\n",
      "  0.55485232 0.29114659 0.47755399 0.34826726 0.4808005  0.68825021\n",
      "  0.57211676]\n",
      " [0.55371517 0.50736263 0.56558666 0.54851425 0.3115942  0.24273158\n",
      "  0.10101762 0.60747318 0.23213954 0.50808071 0.17232584 0.15628816\n",
      "  0.24326592]\n",
      " [0.3086163  0.23849292 0.47584958 0.49542734 0.25490884 0.42096774\n",
      "  0.35837757 0.45100426 0.37788745 0.14243642 0.4686074  0.56085313\n",
      "  0.16027794]]\n",
      "cluster 0  : 65\n",
      "cluster 1  : 51\n",
      "cluster 2  : 62\n"
     ]
    }
   ],
   "source": [
    "print(\"SSE: \",sse,\"\\n centroids: \",centroids)\n",
    "for i in range(len(clusters)):\n",
    "    print(\"cluster\",i,' :',len(clusters[i]))"
   ]
  },
  {
   "cell_type": "code",
   "execution_count": 43,
   "id": "dd78e6c1-44b9-4e90-bcd1-84b538a955e0",
   "metadata": {},
   "outputs": [
    {
     "data": {
      "text/plain": [
       "(0.8852545405855313,\n",
       " [2.393906467438757, 2.6315960653060073, 2.2465547861679758])"
      ]
     },
     "execution_count": 43,
     "metadata": {},
     "output_type": "execute_result"
    }
   ],
   "source": [
    "inter_clust_dist, intra_clust_dist"
   ]
  },
  {
   "cell_type": "code",
   "execution_count": 46,
   "id": "2e96dc35-7ada-4f9d-96cc-63859759a36c",
   "metadata": {},
   "outputs": [
    {
     "name": "stdout",
     "output_type": "stream",
     "text": [
      "silhouette coeff of X0: 0.605950165989257\n"
     ]
    }
   ],
   "source": [
    "for k in range(centroids.shape[0]):\n",
    "            for j in range(len(clusters)):\n",
    "                for i in clusters[j]:\n",
    "                    if i == 0:\n",
    "                        dist = (intra_clust_dist[k]-inter_clust_dist)/max(intra_clust_dist[k],inter_clust_dist)\n",
    "print(\"silhouette coeff of X0:\", dist)\n",
    "                        "
   ]
  },
  {
   "cell_type": "code",
   "execution_count": 156,
   "id": "dba5cc0d-b55b-4ba5-bf8b-d36bb7243727",
   "metadata": {},
   "outputs": [],
   "source": [
    "centroids_true = []\n",
    "c1=[]\n",
    "cnt1=0\n",
    "c2=[]\n",
    "cnt2=0\n",
    "c3=[]\n",
    "cnt3=0\n",
    "for i in range(y.shape[0]):\n",
    "    if y[i]==1:\n",
    "        c1.append(D[i,:])\n",
    "        cnt1+=1\n",
    "    if y[i]==2:\n",
    "        c2.append(D[i,:])\n",
    "        cnt2+=1\n",
    "    if y[i]==3:\n",
    "        c3.append(D[i,:])\n",
    "        cnt3+=1\n",
    "c1 = np.mean(c1,axis=0)\n",
    "c2 = np.mean(c2,axis=0)\n",
    "c3 = np.mean(c3,axis=0)\n",
    "inter_clust_dist_true = (la.norm(c1-c2) + la.norm(c1-c3) + la.norm(c3-c2))/3\n",
    "d1=0\n",
    "d2=0\n",
    "d3=0\n",
    "for i in range(y.shape[0]):\n",
    "    if y[i]==1:\n",
    "        d1+=la.norm(c1- D[i,:])\n",
    "    if y[i]==2:\n",
    "        d2+=la.norm(c2- D[i,:])\n",
    "    if y[i]==3:\n",
    "        d3+=la.norm(c3- D[i,:])\n",
    "d1 = d1/cnt1\n",
    "d2 = d2/cnt2\n",
    "d3 = d3/cnt3"
   ]
  },
  {
   "cell_type": "code",
   "execution_count": 96,
   "id": "6eab1b9b-9618-4867-9be8-1bb991d50e48",
   "metadata": {},
   "outputs": [
    {
     "name": "stdout",
     "output_type": "stream",
     "text": [
      "silhouette coeff of cluster 1 1.0\n",
      "silhouette coeff of cluster 2 0.3653404447869661\n",
      "silhouette coeff of cluster 3 1.0\n"
     ]
    }
   ],
   "source": [
    "s1 = (((la.norm(c1-c2) - d1)+ (la.norm(c1-c3) - d1))/2)/max(((la.norm(c1-c2) - d1)+ (la.norm(c1-c3) - d1))/2, d1)\n",
    "s2 = (((la.norm(c2-c1) - d2)+ (la.norm(c2-c3) - d2))/2)/max(((la.norm(c2-c1) - d2)+ (la.norm(c2-c3) - d2))/2, d2)\n",
    "s3 = (((la.norm(c3-c1) - d3)+ (la.norm(c3-c2) - d3))/2)/max(((la.norm(c3-c1) - d3)+ (la.norm(c3-c2) - d3))/2, d3)\n",
    "print(\"silhouette coeff of cluster 1\",s1)\n",
    "print(\"silhouette coeff of cluster 2\",s2)\n",
    "print(\"silhouette coeff of cluster 3\",s3)"
   ]
  },
  {
   "cell_type": "markdown",
   "id": "491fb872-6bff-4651-b39d-d0c98d7bb5d0",
   "metadata": {
    "tags": []
   },
   "source": [
    "#### Q2. Kernel K-Means: (Total 15 points) Given the minmax scaled data, assume that the initial clusters are given as:\n",
    "$C_0 = [43, 59, 60, 61, 62, 63, 64, 65, 66, 67, 71, 72, 75, 76, 77, 79, 80, 81, 82, 83, 84, 85, 86, 87, 88, 89, 90, 91, 92, 93, 94, 96, 97, 98, 99, 100, 101, 102, 103, 104, 105, 106, 107, 108, 109, 110, 111, 112, 113, 114, 115, 116, 117, 118, 119,  139, 140, 142, 143, 146, 147, 148, 149, 150, 151, 152, 153, 154, 156, 158, 159, 160, 161, 162, 163, 164, 165, 166, 167, 169, 170, 171, 172, 177]$\n",
    "\n",
    "$C_1 = [2, 3, 5, 6, 7, 10, 11, 12, 13, 14, 15, 16, 17, 18, 26, 27, 30, 31, 33, 49, 50, 51, 52, 53, 55, 57, 58, 120, 121, 122, 123, 124, 125, 126, 127, 128, 129, 130, 131, 132, 133, 134, 135, 137, 138]$\n",
    "\n",
    "$C_2 = [0, 1, 4, 8, 9, 19, 20, 21, 22, 23, 24, 25, 28, 29, 32, 34, 35, 36, 37, 38, 39, 40, 41, 42, 44, 45, 46, 47, 48, 54, 56, 68, 69, 70, 73, 74, 78, 95, 136, 141, 144, 145, 155, 157, 168, 173, 174, 175, 176]$\n",
    "\n",
    "##### a) (CSCI4390: 15 points, CSCI6390: 10 points) Show one round of Kernel K-means using the Gaussian Kernel, with spread = 0.5. Show the i) updated cluster assignments, and ii) the percentage of points that change clusters (after 1 step).\n",
    "\n",
    "##### b) (**CSCI6390 Only: 5 points**) Compute the Kernel SSE value (after 1 step). Also compute the variation of information metric for the clustering (see Eq 17.10) after 1 step. You must implement this on your own using numpy functions (but no direct functions)."
   ]
  },
  {
   "cell_type": "code",
   "execution_count": 128,
   "id": "f425457e-80d5-435f-95da-16daf6bb8493",
   "metadata": {},
   "outputs": [],
   "source": [
    "clusters =[[43,59,60,61,62,63,64,65,66,67,71,72,75,76,77,79,80,81,82,83,84,85,86,87,88,89,90,91,92,93,94,96,97,98,99,100,101,102,103,104,105,106,107,108,109,110,111,112,113,114,115,116,117,118,119,139,140,142,143,146,147,148,149,150,151,152,153,154,156,158,159,160,161,162,163,164,165,166,167,169,170,171,172,177],\n",
    "[2,3,5,6,7,10,11,12,13,14,15,16,17,18,26,27,30,31,33,49,50,51,52,53,55,57,58,120,121,122,123,124,125,126,127,128,129,130,131,132,133,134,135,137,138],\n",
    "[0,1,4,8,9,19,20,21,22,23,24,25,28,29,32,34,35,36,37,38,39,40,41,42,44,45,46,47,48,54,56,68,69,70,73,74,78,95,136,141,144,145,155,157,168,173,174,175,176]]\n",
    "\n",
    "def kernelize(x, y, spread):\n",
    "    K = np.dot(x, y.T)\n",
    "    GK = (2 * K) / (2 * spread)\n",
    "    GK = np.exp(GK)\n",
    "    return GK\n",
    "\n",
    "\n"
   ]
  },
  {
   "cell_type": "code",
   "execution_count": 133,
   "id": "c3d62ab8-1be7-4eaf-8ef8-cf6cffc8d058",
   "metadata": {},
   "outputs": [],
   "source": [
    "\n",
    "def Kernel_KMeans(K,k):\n",
    "    t=0\n",
    "    while(True):\n",
    "        sqnorm=np.zeros(3)\n",
    "        for i in range(len(clusters)):\n",
    "            sqnorm[i] = np.sum(np.outer(K[clusters[i]], K[clusters[i]]) / (len(clusters[i])**2))\n",
    "        avg = np.zeros([D.shape[0],len(clusters)])\n",
    "        for j in range(D.shape[0]):\n",
    "            for i in range(len(clusters)):\n",
    "                avg[j,i]=np.sum(np.outer(K[clusters[i]], D[i,:])/len(clusters[i]))\n",
    "        d = np.zeros([D.shape[0],len(clusters)])\n",
    "        clus = []\n",
    "        for j in range(D.shape[0]):\n",
    "            for i in range(len(clusters)):\n",
    "                d[j,i] = sqnorm[i] - 2*avg[j,i]\n",
    "            idx = np.argmin(d[j,i])\n",
    "            clus.append( np.union1d(clusters[i],D[j,:]))\n",
    "        return clus\n",
    "        t+=1\n",
    "        if t==1:\n",
    "            break"
   ]
  },
  {
   "cell_type": "code",
   "execution_count": 126,
   "id": "95ead579-9da0-4ebb-a230-a137b7c9438c",
   "metadata": {},
   "outputs": [
    {
     "data": {
      "text/plain": [
       "(178, 178)"
      ]
     },
     "execution_count": 126,
     "metadata": {},
     "output_type": "execute_result"
    }
   ],
   "source": [
    "GK = kernelize(D,D,0.5)\n",
    "#Kernel_KMeans(GK,3)\n",
    "GK.shape"
   ]
  },
  {
   "cell_type": "code",
   "execution_count": 135,
   "id": "95789fda-4d43-415e-851e-26d89f8cdcec",
   "metadata": {},
   "outputs": [],
   "source": [
    "clusts = Kernel_KMeans(GK,3)"
   ]
  },
  {
   "cell_type": "code",
   "execution_count": 141,
   "id": "2d88c761-3b34-4c03-a30e-adbbeaacb8f6",
   "metadata": {},
   "outputs": [
    {
     "data": {
      "text/plain": [
       "[array([  0.        ,   0.1916996 ,   0.25773196,   0.28301887,\n",
       "          0.37201365,   0.45528455,   0.56134094,   0.57219251,\n",
       "          0.57383966,   0.59305994,   0.61956522,   0.62758621,\n",
       "          0.84210526,   0.97069597,   1.        ,   4.        ,\n",
       "          8.        ,   9.        ,  19.        ,  20.        ,\n",
       "         21.        ,  22.        ,  23.        ,  24.        ,\n",
       "         25.        ,  28.        ,  29.        ,  32.        ,\n",
       "         34.        ,  35.        ,  36.        ,  37.        ,\n",
       "         38.        ,  39.        ,  40.        ,  41.        ,\n",
       "         42.        ,  44.        ,  45.        ,  46.        ,\n",
       "         47.        ,  48.        ,  54.        ,  56.        ,\n",
       "         68.        ,  69.        ,  70.        ,  73.        ,\n",
       "         74.        ,  78.        ,  95.        , 136.        ,\n",
       "        141.        , 144.        , 145.        , 155.        ,\n",
       "        157.        , 168.        , 173.        , 174.        ,\n",
       "        175.        , 176.        ]),\n",
       " array([0.00000000e+00, 3.09278351e-02, 2.05533597e-01, 2.45283019e-01,\n",
       "        2.64505119e-01, 2.74447950e-01, 3.26086957e-01, 4.17112299e-01,\n",
       "        4.63414634e-01, 5.10548523e-01, 5.50641940e-01, 5.71052632e-01,\n",
       "        5.75862069e-01, 7.80219780e-01, 1.00000000e+00, 4.00000000e+00,\n",
       "        8.00000000e+00, 9.00000000e+00, 1.90000000e+01, 2.00000000e+01,\n",
       "        2.10000000e+01, 2.20000000e+01, 2.30000000e+01, 2.40000000e+01,\n",
       "        2.50000000e+01, 2.80000000e+01, 2.90000000e+01, 3.20000000e+01,\n",
       "        3.40000000e+01, 3.50000000e+01, 3.60000000e+01, 3.70000000e+01,\n",
       "        3.80000000e+01, 3.90000000e+01, 4.00000000e+01, 4.10000000e+01,\n",
       "        4.20000000e+01, 4.40000000e+01, 4.50000000e+01, 4.60000000e+01,\n",
       "        4.70000000e+01, 4.80000000e+01, 5.40000000e+01, 5.60000000e+01,\n",
       "        6.80000000e+01, 6.90000000e+01, 7.00000000e+01, 7.30000000e+01,\n",
       "        7.40000000e+01, 7.80000000e+01, 9.50000000e+01, 1.36000000e+02,\n",
       "        1.41000000e+02, 1.44000000e+02, 1.45000000e+02, 1.55000000e+02,\n",
       "        1.57000000e+02, 1.68000000e+02, 1.73000000e+02, 1.74000000e+02,\n",
       "        1.75000000e+02, 1.76000000e+02]),\n",
       " array([  0.        ,   0.3201581 ,   0.32075472,   0.33695652,\n",
       "          0.37542662,   0.41237113,   0.44715447,   0.56052632,\n",
       "          0.61181435,   0.62758621,   0.64693295,   0.6959707 ,\n",
       "          0.70053476,   0.75709779,   1.        ,   4.        ,\n",
       "          8.        ,   9.        ,  19.        ,  20.        ,\n",
       "         21.        ,  22.        ,  23.        ,  24.        ,\n",
       "         25.        ,  28.        ,  29.        ,  32.        ,\n",
       "         34.        ,  35.        ,  36.        ,  37.        ,\n",
       "         38.        ,  39.        ,  40.        ,  41.        ,\n",
       "         42.        ,  44.        ,  45.        ,  46.        ,\n",
       "         47.        ,  48.        ,  54.        ,  56.        ,\n",
       "         68.        ,  69.        ,  70.        ,  73.        ,\n",
       "         74.        ,  78.        ,  95.        , 136.        ,\n",
       "        141.        , 144.        , 145.        , 155.        ,\n",
       "        157.        , 168.        , 173.        , 174.        ,\n",
       "        175.        , 176.        ])]"
      ]
     },
     "execution_count": 141,
     "metadata": {},
     "output_type": "execute_result"
    }
   ],
   "source": [
    "clusts[0:3]"
   ]
  },
  {
   "cell_type": "markdown",
   "id": "694faece-3214-408a-bbd5-3f8ab535d352",
   "metadata": {},
   "source": [
    "#### Q3. EM Clustering: (Total 15 points) Assume an initial partitioning of the points as given in Q2 above. Use the minmax scaled data. Answer the following questions:\n",
    "\n",
    "##### a) (CSCI4390: 15 points, CSCI6390: 10 points) Code and run the EM algorithm using convergence threshold $\\epsilon=0.01$. Print the final cluster information as follows: i) cluster mean, ii) cluster covariance, iii) cluster prior.\n",
    "\n",
    "##### b) (**CSCI6390 Only**: 5 points) Compute the exact ratio-cut score for your clustering, using Euclidean distance for the proximity between points."
   ]
  },
  {
   "cell_type": "code",
   "execution_count": 163,
   "id": "ab0f3d8d-a1bb-4c52-88a6-9c67d4c7fd2d",
   "metadata": {},
   "outputs": [],
   "source": [
    "def select_random_points(data,n_points):\n",
    "    #number_of_rows = data.shape[0]\n",
    "    #random_indices = np.random.choice(number_of_rows, size=n_points, replace=False)\n",
    "    return([c1,c2,c3])\n",
    "\n",
    "def initialize(data,clusters):\n",
    "    n,d = data.shape\n",
    "    means = select_random_points(data,clusters)\n",
    "    cov = []\n",
    "    for i in range(clusters):\n",
    "        cov.append(np.eye(d))\n",
    "    cov = np.array(cov)\n",
    "    pci = np.ones(clusters)*(1/clusters)\n",
    "    return means,cov,pci\n",
    "\n",
    "\n",
    "def Estep(X, k, mu, cov, p):\n",
    "    n, d = X.shape\n",
    "    w = np.zeros((n, k))\n",
    "    v = np.zeros((n, k))\n",
    "    for i in range(k):\n",
    "        w[:, i] = multivariate_normal.logpdf(X, mu[i], cov[i],allow_singular=True) + np.log(p[i])\n",
    "    N = np.zeros(k)\n",
    "    for j in range(n):\n",
    "        m = np.argmax(w[j, :])  # cluster assign assignment\n",
    "        N[m] += 1\n",
    "    for j in range(n):\n",
    "        ls = logsumexp(w[j, :])\n",
    "        w[j, :] = np.exp(w[j, :] - ls)\n",
    "    s = w.sum(axis=1)\n",
    "    w = w / s.reshape(n, 1)\n",
    "    return w\n",
    "\n",
    "\n",
    "def Mstep(X, k, w):\n",
    "    n, d = X.shape\n",
    "    mu = np.zeros((k, d))\n",
    "    cov = np.zeros((k, d, d))\n",
    "    p = np.zeros(k)\n",
    "    for i in range(k):\n",
    "        wsum = np.sum(w[:, i])\n",
    "        mui = np.sum(w[:, i] * X.T, axis=1) / wsum\n",
    "        covi = np.zeros((d, d))\n",
    "        Xmu = X - mui\n",
    "        covi = np.dot(Xmu.T, Xmu * (w[:, i].reshape(n, 1)))\n",
    "        covi = covi / wsum\n",
    "        covi += ridge * np.eye(d)\n",
    "        pi = wsum / n\n",
    "        mu[i] = mui\n",
    "        cov[i] = covi\n",
    "        p[i] = pi\n",
    "    return mu, cov, p\n",
    "\n",
    "def simulate_E_M(X, k):\n",
    "    mu, cov, p = initialize(X, k)\n",
    "    notconverged = True\n",
    "    t = 0\n",
    "    while (notconverged):\n",
    "        oldmu = mu.copy()\n",
    "        w = Estep(X, k, mu, cov, p)\n",
    "        mu, cov, p = Mstep(X, k, w)\n",
    "        diff = np.sum([la.norm(mu[i] - oldmu[i]) for i in range(k)])\n",
    "        t = t + 1\n",
    "        notconverged = diff > eps and t < maxiter\n",
    "    print(\"iter\", t, diff)\n",
    "    return mu, cov, p,w"
   ]
  },
  {
   "cell_type": "code",
   "execution_count": 164,
   "id": "d6a19270-1e83-41d9-b113-6e546fb7b9ce",
   "metadata": {},
   "outputs": [
    {
     "name": "stdout",
     "output_type": "stream",
     "text": [
      "iter 16 0.0019288400536126747\n"
     ]
    }
   ],
   "source": [
    "eps = 0.01\n",
    "ridge = 1e-5\n",
    "maxiter =100\n",
    "mu,cov,p, w =simulate_E_M(D,3)"
   ]
  },
  {
   "cell_type": "code",
   "execution_count": 166,
   "id": "705f2980-65e2-451a-8561-456e3d96b6b4",
   "metadata": {},
   "outputs": [
    {
     "name": "stdout",
     "output_type": "stream",
     "text": [
      "points i each cluster [74. 55. 49.  0.  0.  0.  0.  0.  0.  0.  0.]\n",
      "final means [[0.64004597 0.23270969 0.55932993 0.37419696 0.36119766 0.60118954\n",
      "  0.5199402  0.31532106 0.4492126  0.32079521 0.48731702 0.68713809\n",
      "  0.52112826]\n",
      " [0.32346529 0.25737725 0.47846366 0.48462379 0.27575775 0.44750281\n",
      "  0.3698278  0.46045045 0.3904719  0.15350974 0.45040724 0.52997762\n",
      "  0.15476001]\n",
      " [0.55440757 0.50589218 0.57359146 0.55652884 0.31940297 0.23702063\n",
      "  0.09412588 0.59617835 0.23645846 0.51456793 0.16837759 0.15246463\n",
      "  0.25436523]]\n",
      "final covariance [[[ 3.55133946e-02  4.54534775e-03  5.34991169e-03 -1.72344089e-02\n",
      "    1.29209453e-02  1.85360244e-02  1.60367863e-02 -5.44248592e-03\n",
      "    1.11254579e-02  1.73840117e-02 -3.49565579e-03  2.76277873e-03\n",
      "    2.83789166e-02]\n",
      "  [ 4.54534775e-03  1.71774138e-02  2.48277953e-03 -1.80656974e-03\n",
      "    4.20519059e-03  1.91703301e-03  9.37713489e-04 -2.44497276e-03\n",
      "    7.18893848e-05 -2.48370291e-04 -5.83934959e-03  3.18544762e-03\n",
      "   -6.62697822e-04]\n",
      "  [ 5.34991169e-03  2.48277953e-03  1.94691036e-02  6.71367258e-03\n",
      "    9.69477255e-03  4.44769546e-03  2.83239994e-03  6.30008432e-03\n",
      "    3.10730830e-04  2.16899992e-03  1.71381814e-03 -1.57983263e-03\n",
      "    8.37549205e-03]\n",
      "  [-1.72344089e-02 -1.80656974e-03  6.71367258e-03  2.77945464e-02\n",
      "    2.42528227e-04 -8.86345746e-03 -9.77620759e-03  7.37877208e-03\n",
      "   -6.49723513e-03 -1.09254857e-02  4.74894571e-03 -1.51167560e-03\n",
      "   -1.29704123e-02]\n",
      "  [ 1.29209453e-02  4.20519059e-03  9.69477255e-03  2.42528227e-04\n",
      "    2.07261985e-02  1.12056352e-02  7.42541049e-03 -8.98766977e-04\n",
      "    3.13257208e-03  7.28679182e-03 -1.90495659e-03  2.35784189e-03\n",
      "    9.77770669e-03]\n",
      "  [ 1.85360244e-02  1.91703301e-03  4.44769546e-03 -8.86345746e-03\n",
      "    1.12056352e-02  2.10945574e-02  1.45156205e-02 -4.44453969e-03\n",
      "    9.43251150e-03  1.40523065e-02 -4.20462484e-03  2.56700939e-03\n",
      "    1.77727072e-02]\n",
      "  [ 1.60367863e-02  9.37713489e-04  2.83239994e-03 -9.77620759e-03\n",
      "    7.42541049e-03  1.45156205e-02  1.32044094e-02 -4.44963808e-03\n",
      "    9.38360891e-03  1.27106568e-02 -1.92635072e-03  7.64221528e-05\n",
      "    1.59840625e-02]\n",
      "  [-5.44248592e-03 -2.44497276e-03  6.30008432e-03  7.37877208e-03\n",
      "   -8.98766977e-04 -4.44453969e-03 -4.44963808e-03  1.76114235e-02\n",
      "   -3.81226249e-03 -4.98362301e-03  4.90153160e-03 -6.39833004e-03\n",
      "   -5.17783659e-03]\n",
      "  [ 1.11254579e-02  7.18893848e-05  3.10730830e-04 -6.49723513e-03\n",
      "    3.13257208e-03  9.43251150e-03  9.38360891e-03 -3.81226249e-03\n",
      "    1.69724396e-02  8.78261772e-03  1.70750996e-04 -2.36762636e-04\n",
      "    9.04631418e-03]\n",
      "  [ 1.73840117e-02 -2.48370291e-04  2.16899992e-03 -1.09254857e-02\n",
      "    7.28679182e-03  1.40523065e-02  1.27106568e-02 -4.98362301e-03\n",
      "    8.78261772e-03  1.71706773e-02 -1.94135556e-03 -1.27200686e-03\n",
      "    2.05995016e-02]\n",
      "  [-3.49565579e-03 -5.83934959e-03  1.71381814e-03  4.74894571e-03\n",
      "   -1.90495659e-03 -4.20462484e-03 -1.92635072e-03  4.90153160e-03\n",
      "    1.70750996e-04 -1.94135556e-03  1.08573254e-02 -4.56081890e-03\n",
      "    1.05225566e-03]\n",
      "  [ 2.76277873e-03  3.18544762e-03 -1.57983263e-03 -1.51167560e-03\n",
      "    2.35784189e-03  2.56700939e-03  7.64221528e-05 -6.39833004e-03\n",
      "   -2.36762636e-04 -1.27200686e-03 -4.56081890e-03  1.72611006e-02\n",
      "   -4.01239157e-03]\n",
      "  [ 2.83789166e-02 -6.62697822e-04  8.37549205e-03 -1.29704123e-02\n",
      "    9.77770669e-03  1.77727072e-02  1.59840625e-02 -5.17783659e-03\n",
      "    9.04631418e-03  2.05995016e-02  1.05225566e-03 -4.01239157e-03\n",
      "    4.49105403e-02]]\n",
      "\n",
      " [[ 2.24923160e-02  1.56677735e-04 -5.46211892e-03 -9.00189213e-04\n",
      "   -2.48446958e-03 -4.30237117e-03 -3.36071408e-03 -1.03898413e-04\n",
      "   -8.08991146e-03  2.38123758e-03 -4.12590818e-04 -5.79159191e-03\n",
      "   -2.67903717e-04]\n",
      "  [ 1.56677735e-04  4.73727769e-02  5.59602143e-03  1.10963995e-02\n",
      "   -5.51626451e-03  1.28566890e-03  4.14388602e-03  5.99753605e-03\n",
      "    1.00838693e-02 -3.53898884e-03 -1.46257317e-02  9.22819440e-03\n",
      "   -4.87691856e-03]\n",
      "  [-5.46211892e-03  5.59602143e-03  2.91968617e-02  2.02936165e-02\n",
      "    2.13763632e-03  4.11539852e-03  1.07041877e-02  1.21040337e-02\n",
      "    1.67524533e-03  2.29507683e-03 -2.06528855e-03  8.22792889e-03\n",
      "    2.98730319e-04]\n",
      "  [-9.00189213e-04  1.10963995e-02  2.02936165e-02  2.75492473e-02\n",
      "   -3.44995944e-03  4.68378675e-03  1.15796033e-02  9.10884093e-03\n",
      "    5.80796231e-03  7.29028218e-04 -5.88086665e-03  1.25471662e-02\n",
      "   -3.55491182e-03]\n",
      "  [-2.48446958e-03 -5.51626451e-03  2.13763632e-03 -3.44995944e-03\n",
      "    3.34633443e-02  1.07298835e-04 -1.58106724e-03 -8.89673788e-03\n",
      "    1.15070441e-02  8.45866906e-04  4.67778120e-03 -1.69934961e-03\n",
      "    1.09377917e-02]\n",
      "  [-4.30237117e-03  1.28566890e-03  4.11539852e-03  4.68378675e-03\n",
      "    1.07298835e-04  3.67676472e-02  2.26466261e-02 -2.09291577e-02\n",
      "    1.46636332e-02  1.62199882e-03  8.22603706e-04  1.70519422e-02\n",
      "    4.10629796e-04]\n",
      "  [-3.36071408e-03  4.14388602e-03  1.07041877e-02  1.15796033e-02\n",
      "   -1.58106724e-03  2.26466261e-02  2.44314258e-02 -8.05455173e-03\n",
      "    1.55324008e-02  3.75795782e-03 -1.59752158e-03  1.82238682e-02\n",
      "   -2.65326537e-03]\n",
      "  [-1.03898413e-04  5.99753605e-03  1.21040337e-02  9.10884093e-03\n",
      "   -8.89673788e-03 -2.09291577e-02 -8.05455173e-03  6.34517160e-02\n",
      "   -1.75532276e-02  1.99045167e-03  4.33721887e-05 -1.71134757e-02\n",
      "   -2.65499000e-03]\n",
      "  [-8.08991146e-03  1.00838693e-02  1.67524533e-03  5.80796231e-03\n",
      "    1.15070441e-02  1.46636332e-02  1.55324008e-02 -1.75532276e-02\n",
      "    4.29764031e-02 -2.50591909e-03 -2.26180524e-03  1.81299796e-02\n",
      "    3.16687142e-03]\n",
      "  [ 2.38123758e-03 -3.53898884e-03  2.29507683e-03  7.29028218e-04\n",
      "    8.45866906e-04  1.62199882e-03  3.75795782e-03  1.99045167e-03\n",
      "   -2.50591909e-03  5.82426190e-03 -7.08970318e-04 -2.30312484e-03\n",
      "    6.39386117e-04]\n",
      "  [-4.12590818e-04 -1.46257317e-02 -2.06528855e-03 -5.88086665e-03\n",
      "    4.67778120e-03  8.22603706e-04 -1.59752158e-03  4.33721887e-05\n",
      "   -2.26180524e-03 -7.08970318e-04  2.84553483e-02 -3.78491117e-03\n",
      "    3.84747891e-04]\n",
      "  [-5.79159191e-03  9.22819440e-03  8.22792889e-03  1.25471662e-02\n",
      "   -1.69934961e-03  1.70519422e-02  1.82238682e-02 -1.71134757e-02\n",
      "    1.81299796e-02 -2.30312484e-03 -3.78491117e-03  3.06103337e-02\n",
      "   -3.69954144e-03]\n",
      "  [-2.67903717e-04 -4.87691856e-03  2.98730319e-04 -3.55491182e-03\n",
      "    1.09377917e-02  4.10629796e-04 -2.65326537e-03 -2.65499000e-03\n",
      "    3.16687142e-03  6.39386117e-04  3.84747891e-04 -3.69954144e-03\n",
      "    1.07891634e-02]]\n",
      "\n",
      " [[ 1.96968563e-02  4.67545916e-03  3.77475386e-03  3.50310029e-03\n",
      "   -1.50993087e-03  4.34366505e-03  4.10287724e-04  1.83855875e-03\n",
      "    6.08081441e-03  1.08802279e-02 -1.22179944e-03  1.54498981e-03\n",
      "   -1.73037638e-03]\n",
      "  [ 4.67545916e-03  4.66212853e-02  1.16640957e-03  2.38761252e-03\n",
      "   -4.53820482e-03 -2.77086032e-03 -3.92905523e-03  7.86205483e-03\n",
      "   -6.58298323e-03 -4.16268399e-03  3.37163002e-04 -1.80296352e-04\n",
      "   -1.07663172e-03]\n",
      "  [ 3.77475386e-03  1.16640957e-03  9.65769494e-03  8.49322220e-03\n",
      "    2.27728518e-03  5.95749676e-03  1.50873813e-03 -1.09726457e-04\n",
      "    2.14355349e-03  3.20815956e-03  1.16637221e-03  2.01278090e-03\n",
      "   -1.54753007e-03]\n",
      "  [ 3.50310029e-03  2.38761252e-03  8.49322220e-03  1.30686944e-02\n",
      "    2.06784878e-03  5.21510366e-03  1.82714291e-03 -2.99061871e-04\n",
      "    3.69786501e-03  3.91362922e-03  1.03843774e-04  4.13801013e-04\n",
      "   -1.07830224e-03]\n",
      "  [-1.50993087e-03 -4.53820482e-03  2.27728518e-03  2.06784878e-03\n",
      "    1.34916843e-02 -7.08672522e-04  4.04082381e-03 -1.35719838e-02\n",
      "    2.32458133e-03  2.04767788e-03  1.89057344e-04 -2.48730706e-03\n",
      "    1.90372486e-03]\n",
      "  [ 4.34366505e-03 -2.77086032e-03  5.95749676e-03  5.21510366e-03\n",
      "   -7.08672522e-04  1.53229573e-02  1.55415127e-03  9.59424837e-03\n",
      "    9.07523157e-03  9.25317736e-03 -9.86226621e-04  2.16819400e-03\n",
      "   -2.43048779e-04]\n",
      "  [ 4.10287724e-04 -3.92905523e-03  1.50873813e-03  1.82714291e-03\n",
      "    4.04082381e-03  1.55415127e-03  3.73927514e-03 -8.97514325e-03\n",
      "    3.22154852e-03  3.93990588e-03 -1.44455858e-03 -2.49718361e-03\n",
      "   -1.03616597e-03]\n",
      "  [ 1.83855875e-03  7.86205483e-03 -1.09726457e-04 -2.99061871e-04\n",
      "   -1.35719838e-02  9.59424837e-03 -8.97514325e-03  5.30844467e-02\n",
      "    4.71034012e-03  2.21048950e-03  2.69033874e-03  6.73068092e-03\n",
      "    3.24898747e-03]\n",
      "  [ 6.08081441e-03 -6.58298323e-03  2.14355349e-03  3.69786501e-03\n",
      "    2.32458133e-03  9.07523157e-03  3.22154852e-03  4.71034012e-03\n",
      "    1.61567135e-02  1.60272374e-02 -4.51985310e-03 -1.49410162e-03\n",
      "    2.30610570e-03]\n",
      "  [ 1.08802279e-02 -4.16268399e-03  3.20815956e-03  3.91362922e-03\n",
      "    2.04767788e-03  9.25317736e-03  3.93990588e-03  2.21048950e-03\n",
      "    1.60272374e-02  3.99836114e-02 -1.13128390e-02 -2.30105462e-03\n",
      "    6.45613664e-04]\n",
      "  [-1.22179944e-03  3.37163002e-04  1.16637221e-03  1.03843774e-04\n",
      "    1.89057344e-04 -9.86226621e-04 -1.44455858e-03  2.69033874e-03\n",
      "   -4.51985310e-03 -1.13128390e-02  8.95552437e-03  3.41778486e-03\n",
      "    6.17373303e-04]\n",
      "  [ 1.54498981e-03 -1.80296352e-04  2.01278090e-03  4.13801013e-04\n",
      "   -2.48730706e-03  2.16819400e-03 -2.49718361e-03  6.73068092e-03\n",
      "   -1.49410162e-03 -2.30105462e-03  3.41778486e-03  9.59482602e-03\n",
      "    1.70154754e-03]\n",
      "  [-1.73037638e-03 -1.07663172e-03 -1.54753007e-03 -1.07830224e-03\n",
      "    1.90372486e-03 -2.43048779e-04 -1.03616597e-03  3.24898747e-03\n",
      "    2.30610570e-03  6.45613664e-04  6.17373303e-04  1.70154754e-03\n",
      "    7.04511179e-03]]]\n"
     ]
    }
   ],
   "source": [
    "pic = np.zeros(11)\n",
    "y_pred = np.zeros(D.shape[0])\n",
    "for i in range(w.shape[0]):\n",
    "    n = np.argmax(w[i,:], axis=0)\n",
    "    pic[n] += 1\n",
    "    y_pred[i] = n\n",
    "print(\"points i each cluster\",pic)\n",
    "print(\"final means\",mu)\n",
    "print(\"final covariance\", cov)"
   ]
  },
  {
   "cell_type": "markdown",
   "id": "30951748-a587-42ff-b8a8-e8a337f55f2b",
   "metadata": {},
   "source": [
    "#### Q4. Gradient vs. Mean-Shift: (Total 15 points) Given the 1st point (at index 0), $x_0$ in the dataset (use the minmax scaled data) answer the following questions:\n",
    "\n",
    "##### a) (CSCI4390: 15 points, CSCI6390: 10 points) Compute the density attractor for $x_0$ via mean-shift update, Use $h=0.5, \\epsilon=0.001$. How many iterations does it take to converge. Print the attractor and its density.\n",
    "\n",
    "##### b) (**CSCI6390 Only**: 5 points) Compute the density attractor for $x_0$ via gradient update, Use $h=0.5,  \\epsilon=0.001, \\eta=1$. How many iterations does it take to converge. Print the attractor and its density. Which of the two do you think is the better method, and why?"
   ]
  },
  {
   "cell_type": "code",
   "execution_count": 172,
   "id": "3cf94d3d-5063-408b-bfdb-a835ceb32377",
   "metadata": {},
   "outputs": [],
   "source": [
    "def get_density(x, h, X):\n",
    "    n = X.shape[0]\n",
    "    d = X.shape[1]\n",
    "    Dx = X - x\n",
    "    den = -np.sum(Dx*Dx, axis=1)/(2*h**2)\n",
    "    kernel = - (np.log(n) + d*np.log(h) + d/2 * np.log(2*np.pi))\n",
    "    z = logsumexp(den)\n",
    "    R = z + kernel\n",
    "    return R\n",
    "\n",
    "def mean_shift(x, h, X):\n",
    "    n, d = X.shape\n",
    "    Dx = X - x\n",
    "    W = np.exp(-np.sum(Dx*Dx, axis=1)/(2*h**2))\n",
    "    W = np.reshape(W, (n,-1))\n",
    "    x = np.sum(W*X, axis=0)/np.sum(W)\n",
    "    return x\n",
    "\n",
    "def find_attractor(x, h, X, eps=0.001, maxiter=100):\n",
    "    t = 0\n",
    "    diff = 1e12\n",
    "    while t < maxiter and diff > eps:\n",
    "        xl = x.copy()\n",
    "        x = mean_shift(x, h, X)\n",
    "        diff = np.linalg.norm(x-xl)\n",
    "        t = t+1\n",
    "    print('iterations',t)\n",
    "    return x"
   ]
  },
  {
   "cell_type": "code",
   "execution_count": 173,
   "id": "30f7b93a-f394-4a84-b612-5e9151295614",
   "metadata": {},
   "outputs": [
    {
     "name": "stdout",
     "output_type": "stream",
     "text": [
      "iterations 13\n",
      "attractor x0:  [0.50955509 0.27073424 0.53064474 0.44059276 0.3111722  0.47956373\n",
      " 0.39685928 0.39850798 0.38003974 0.2751198  0.42733855 0.56073006\n",
      " 0.34375403]\n",
      "density:  -3.89975592254629\n"
     ]
    }
   ],
   "source": [
    "atr = find_attractor(D[0,:], 0.5, D)\n",
    "print('attractor x0: ', atr)\n",
    "print('density: ',get_density(atr, 0.5, D))"
   ]
  },
  {
   "cell_type": "markdown",
   "id": "c15fdf91-b873-43ff-afdb-fe7ecf334810",
   "metadata": {},
   "source": [
    "the gradient can be computed as del F(x) = 1/n*pow(h,2) Summission i to n k(x-xi)/h . (xi-x)\n",
    "could not code it because of lack of time\n",
    "\n",
    "Mean shift is better to use when the dimentionlity of the data is not too high it can converge faster than gradient update"
   ]
  },
  {
   "cell_type": "markdown",
   "id": "2a829305-a571-4341-bac7-feda6b35000e",
   "metadata": {},
   "source": [
    "#### Q5. Spectral Clustering: (Total 15 points) We will apply spectral clustering with $k=3$ (use the minmax scaled data) using the asymmetric Laplacian matrix. Use the Gaussian kernel (with $spread=1$) as the adjacency matrix. Answer the following questions:\n",
    "\n",
    "##### a) (5 points) Compute the Asymmetric Lapacian Matrix $L^a$ and find its smallest three eigenvalues and eigenvectors. Print those three eigenvalues. Note that numpy eig function does not return values in any order.\n",
    "\n",
    "##### b) (5 points) Next, assume that the two eigenvectors, except for the one corresponding to the smallest eigenvalue, represent a new 2D dataset for the points. No need to normalize the rows. Plot the scatter for the new data.\n",
    "\n",
    "##### c) (5 points) Based on the plot devise a \"visually-guided\" but quantitative approach to find three clusters. Describe your reasoning and criteria for creating the clusters, and then find the set of points that belong to each cluster. That is, list the cluster size, and the list of points in each cluster."
   ]
  },
  {
   "cell_type": "code",
   "execution_count": 181,
   "id": "93359a9a-b74f-4bfb-8311-8a95aaf2163b",
   "metadata": {},
   "outputs": [
    {
     "name": "stdout",
     "output_type": "stream",
     "text": [
      "laplacian matrix: [[457.40973054 -29.9097306  -50.85776808 -40.3039338  -31.43080664\n",
      "  -44.21969147 -34.78431046 -38.99647468 -35.32014777 -33.8433312\n",
      "  -35.32701326 -46.07706767 -36.33945491]\n",
      " [-29.9097306  271.16831139 -31.16619814 -27.68844994 -17.82295068\n",
      "  -22.63945754 -16.62865863 -27.25449325 -19.36194062 -20.02725988\n",
      "  -17.72207012 -23.85127192 -17.09583007]\n",
      " [-50.85776808 -31.16619814 467.29181012 -45.90983516 -32.12776099\n",
      "  -44.17025632 -34.77416007 -43.04752295 -35.73577489 -32.21452424\n",
      "  -36.82931177 -47.11194688 -33.34675063]\n",
      " [-40.3039338  -27.68844994 -45.90983516 387.97739223 -25.98963469\n",
      "  -34.89911127 -26.82980991 -38.2920638  -29.31732739 -26.42200746\n",
      "  -30.12873187 -37.91656282 -24.27992411]\n",
      " [-31.43080664 -17.82295068 -32.12776099 -25.98963469 295.18893468\n",
      "  -27.36664168 -21.64137314 -23.5192781  -22.60934714 -19.63666715\n",
      "  -22.61954754 -28.75199076 -21.67293618]\n",
      " [-44.21969147 -22.63945754 -44.17025632 -34.89911127 -27.36664168\n",
      "  412.50416337 -35.72707697 -31.2763175  -34.29410421 -25.60472813\n",
      "  -34.41183628 -46.62446634 -31.27047568]\n",
      " [-34.78431046 -16.62865863 -34.77416007 -26.82980991 -21.64137314\n",
      "  -35.72707697 333.19066424 -23.03984555 -28.02723316 -19.17780922\n",
      "  -28.3912696  -38.81267677 -25.35644077]\n",
      " [-38.99647468 -27.25449325 -43.04752295 -38.2920638  -23.5192781\n",
      "  -31.2763175  -23.03984555 362.09529425 -26.26218677 -26.24494489\n",
      "  -28.19748428 -32.82901375 -23.13566872]\n",
      " [-35.32014777 -19.36194062 -35.73577489 -29.31732739 -22.60934714\n",
      "  -34.29410421 -28.02723316 -26.26218677 341.08953053 -21.21597258\n",
      "  -27.49442179 -36.90243931 -24.54863489]\n",
      " [-33.8433312  -20.02725988 -32.21452424 -26.42200746 -19.63666715\n",
      "  -25.60472813 -19.17780922 -26.24494489 -21.21597258 289.23782719\n",
      "  -18.87838313 -24.29567189 -21.67652743]\n",
      " [-35.32701326 -17.72207012 -36.82931177 -30.12873187 -22.61954754\n",
      "  -34.41183628 -28.3912696  -28.19748428 -27.49442179 -18.87838313\n",
      "  343.64751684 -38.79421662 -24.85323058]\n",
      " [-46.07706767 -23.85127192 -47.11194688 -37.91656282 -28.75199076\n",
      "  -46.62446634 -38.81267677 -32.82901375 -36.90243931 -24.29567189\n",
      "  -38.79421662 434.45839192 -32.49106718]\n",
      " [-36.33945491 -17.09583007 -33.34675063 -24.27992411 -21.67293618\n",
      "  -31.27047568 -25.35644077 -23.13566872 -24.54863489 -21.67652743\n",
      "  -24.85323058 -32.49106718 316.06694115]]\n",
      "eigen values [  0.         290.42940939 309.88311644] eigen vectors [[ 0.2773501  -0.02920459  0.00405916  0.03891326  0.01627885  0.02795938\n",
      "  -0.01225376  0.061764    0.09740641 -0.15343015  0.23704682 -0.7495722\n",
      "   0.51439588]\n",
      " [ 0.2773501   0.94050155  0.05964204 -0.06028006 -0.07272136 -0.07942008\n",
      "   0.01551784 -0.11893221 -0.05127992  0.01717221 -0.02547688  0.03991406\n",
      "   0.01394865]\n",
      " [ 0.2773501  -0.02201668  0.01306129  0.03580626  0.03830704  0.04155028\n",
      "  -0.02177493  0.08380271  0.10570215 -0.09872403  0.17726562 -0.3759426\n",
      "  -0.84662465]]\n"
     ]
    }
   ],
   "source": [
    "A = np.dot(D.T,D)\n",
    "tran_mat = np.zeros(A.shape)\n",
    "for i in range(A.shape[0]):\n",
    "    tran_mat[i][i] = (np.sum(A[i][:]))\n",
    "lap_mat = tran_mat - A\n",
    "print(\"laplacian matrix:\",lap_mat)\n",
    "\n",
    "eigenValues, eigenVectors = la.eig(lap_mat)\n",
    "\n",
    "idx = eigenValues.argsort()  \n",
    "eigenValues = eigenValues[idx]\n",
    "eigenVectors = eigenVectors[:,idx]\n",
    "eig_val = eigenValues[:3]\n",
    "eig_vec = eigenVectors[:3]\n",
    "print('eigen values',eig_val, 'eigen vectors',eig_vec)\n",
    "\n"
   ]
  },
  {
   "cell_type": "code",
   "execution_count": 184,
   "id": "5a25e678-2f7c-40ee-8a31-9657baa8fe4a",
   "metadata": {},
   "outputs": [
    {
     "data": {
      "text/plain": [
       "Text(0, 0.5, 'eigen vector of second smallest eigen value')"
      ]
     },
     "execution_count": 184,
     "metadata": {},
     "output_type": "execute_result"
    },
    {
     "data": {
      "image/png": "[encoded data removed]",
      "text/plain": [
       "<Figure size 432x288 with 1 Axes>"
      ]
     },
     "metadata": {
      "needs_background": "light"
     },
     "output_type": "display_data"
    }
   ],
   "source": [
    "plt.scatter(eig_vec[0],eig_vec[1])\n",
    "plt.xlabel('eigen vector of smallest eigen value')\n",
    "plt.ylabel('eigen vector of second smallest eigen value')"
   ]
  },
  {
   "cell_type": "markdown",
   "id": "c0bedf92-ebcb-4978-a312-aad3e2dc0984",
   "metadata": {},
   "source": [
    "For creating the clusters for this data I would use a distance threshold, for each point i will check the distance of other points from that point and all the point falling within the threshold will create a cluster. based on the data i have here there will be 8 clusters where 6 clusters will have 1 point each and the other 2 clusters will have 5 and 2 points."
   ]
  },
  {
   "cell_type": "markdown",
   "id": "7c7d5fa7-0fc4-40ab-b36e-5c94c90b2029",
   "metadata": {},
   "source": [
    "#### Q6. Markov Clustering: (Total 15 points) Apply markov clustering algorithm on the minmax scaled data, using Gaussian Kernel with $h=0.1, r=3, \\epsilon=0.001$. However, after convergence, report only the attractor with the largest number of points. List the attractor index, and the list of points attracted to it."
   ]
  },
  {
   "cell_type": "code",
   "execution_count": 74,
   "id": "21c41704-d783-48c3-aa6f-082579471674",
   "metadata": {},
   "outputs": [],
   "source": [
    "from scipy.sparse import  csc_matrix\n",
    "import math\n",
    "def get_clusters(matrix):\n",
    "\n",
    "    matrix = csc_matrix(matrix)\n",
    "    attractors = matrix.diagonal().nonzero()[0]\n",
    "    clusters = set()\n",
    "    for attractor in attractors:\n",
    "        cluster = tuple(matrix.getrow(attractor).nonzero()[1].tolist())\n",
    "        clusters.add(cluster)\n",
    "\n",
    "    return sorted(list(clusters)), attractors"
   ]
  },
  {
   "cell_type": "code",
   "execution_count": 63,
   "id": "ca940b49-8c30-4537-b420-551ee279e629",
   "metadata": {},
   "outputs": [],
   "source": [
    "def markov(A,r = 3,eps=0.001):\n",
    "    #new_A = A.copy()\n",
    "    for i in range(A.shape[0]):\n",
    "        A[i][i] = 1\n",
    "    tran_mat = np.zeros(A.shape)\n",
    "    for i in range(A.shape[0]):\n",
    "        tran_mat[i][i] = 1/(np.sum(A[i][:]))\n",
    "    #print(tran_mat)\n",
    "    M = np.dot(tran_mat,A)\n",
    "    #print(M)\n",
    "    diff = 1\n",
    "    t = 0\n",
    "    while diff>eps:\n",
    "        t+=1\n",
    "        Mt = M*M\n",
    "        for entry in np.nditer(Mt, op_flags=['readwrite']):\n",
    "            entry[...] = math.pow(entry, r)\n",
    "        normalize(Mt, norm=\"l1\", axis=0)\n",
    "        diff = np.linalg.norm(Mt-M)\n",
    "        M = Mt\n",
    "    M_final = Mt\n",
    "    return M_final"
   ]
  },
  {
   "cell_type": "code",
   "execution_count": 71,
   "id": "a80dd155-a935-46f7-bead-9bdf296bbf3c",
   "metadata": {},
   "outputs": [],
   "source": [
    "spread = 0.1\n",
    "A = np.exp(-(np.dot(D.T,D)/ (2*spread)))\n",
    "matrix = markov(A,r=3)"
   ]
  },
  {
   "cell_type": "code",
   "execution_count": 75,
   "id": "53edecdf-5c09-4256-910e-d3b83dee610d",
   "metadata": {},
   "outputs": [],
   "source": [
    "markov, attractors = get_clusters(matrix)"
   ]
  },
  {
   "cell_type": "code",
   "execution_count": 79,
   "id": "7509ef5d-d07a-4573-a2f7-7ff23150beeb",
   "metadata": {},
   "outputs": [
    {
     "data": {
      "text/plain": [
       "(13, 13)"
      ]
     },
     "execution_count": 79,
     "metadata": {},
     "output_type": "execute_result"
    }
   ],
   "source": [
    "matrix.shape"
   ]
  },
  {
   "cell_type": "code",
   "execution_count": 81,
   "id": "29ac602f-730d-4ae0-900e-7904ee6f3afb",
   "metadata": {},
   "outputs": [
    {
     "name": "stdout",
     "output_type": "stream",
     "text": [
      "Attractor index:  2 \n",
      "list of points:  (1, 4, 5, 6, 8, 9, 10, 11, 12)\n"
     ]
    }
   ],
   "source": [
    "len_atr = 0\n",
    "lc_idx = 0\n",
    "for i in range(len(markov)):\n",
    "    if len(markov[i])>len_atr:\n",
    "        len_atr = len(markov[i])\n",
    "        lc_idx = i\n",
    "print(\"Attractor index: \", lc_idx, \"\\nlist of points: \",markov[lc_idx])"
   ]
  },
  {
   "cell_type": "markdown",
   "id": "2a53fd8e-0acc-43f8-b631-41a0efe1dd92",
   "metadata": {},
   "source": [
    "#### Q7. 2D-Convolutions: (Total 10 points) Download the [bookpic_sq.png](https://www.cs.rpi.edu/~zaki/DMCOURSE/images/bookpic_sq.png) image. You can read it into an numpy array via matplotlib imread function, and you can display the image via the matplotlib imshow function. Answer the following questions:\n",
    "\n",
    "##### a) Read the image into an array and plot it. \n",
    "##### b) Next, apply a 2D convolution on this image using a random $k \\times k \\times c$ mask generated using numpy.random.randn, after setting random seed to 42, where $k=8$ and $c$ corresponds to the number of in_channels in the input image. You must use relu activation, but set the bias to zero. \n",
    "##### c) Plot the resulting image using matplotlib imshow function"
   ]
  },
  {
   "cell_type": "code",
   "execution_count": 185,
   "id": "0b023674-6cea-4568-b8f0-e91787782aae",
   "metadata": {},
   "outputs": [
    {
     "data": {
      "image/png": "[encoded data removed]",
      "text/plain": [
       "<Figure size 432x288 with 1 Axes>"
      ]
     },
     "metadata": {
      "needs_background": "light"
     },
     "output_type": "display_data"
    }
   ],
   "source": [
    "import matplotlib.pyplot as plt\n",
    "import matplotlib.image as mpimg\n",
    "img = mpimg.imread('bookpic_sq.png')\n",
    "imgplot = plt.imshow(img)\n",
    "plt.show()"
   ]
  },
  {
   "cell_type": "code",
   "execution_count": 189,
   "id": "870d93a5-3989-4eab-b472-7884b965f3e3",
   "metadata": {},
   "outputs": [],
   "source": [
    "np.random.seed(42)\n",
    "import random"
   ]
  },
  {
   "cell_type": "code",
   "execution_count": 202,
   "id": "5fb8ea50-13a9-43c8-8ae6-b5a94ccd0147",
   "metadata": {},
   "outputs": [
    {
     "data": {
      "text/plain": [
       "array([[0.62876378, 0.69172389, 0.95141927, 0.85818829, 0.00962013,\n",
       "        0.03361721, 0.00924165, 0.63890165],\n",
       "       [0.68991337, 0.49062503, 0.47476981, 0.70085439, 0.7430146 ,\n",
       "        0.4991878 , 0.07071799, 0.22859603],\n",
       "       [0.23552259, 0.45828495, 0.21920478, 0.58439896, 0.20959388,\n",
       "        0.89733143, 0.79571246, 0.09751568],\n",
       "       [0.30357554, 0.38501061, 0.320388  , 0.04798165, 0.34527232,\n",
       "        0.39176244, 0.07030431, 0.88155866],\n",
       "       [0.89534916, 0.84653784, 0.39306857, 0.01332775, 0.39819969,\n",
       "        0.65328761, 0.19644562, 0.90415234],\n",
       "       [0.30418905, 0.92698718, 0.95747279, 0.09190772, 0.51124029,\n",
       "        0.67577887, 0.75827196, 0.56003984],\n",
       "       [0.99070452, 0.8562071 , 0.7265506 , 0.33436551, 0.43931864,\n",
       "        0.4124472 , 0.16693937, 0.10171134],\n",
       "       [0.2415258 , 0.66259542, 0.88669196, 0.9614417 , 0.22025138,\n",
       "        0.66121145, 0.59567558, 0.43505279]])"
      ]
     },
     "execution_count": 202,
     "metadata": {},
     "output_type": "execute_result"
    }
   ],
   "source": [
    "k=8\n",
    "c=3\n",
    "np\n",
    "w=[]\n",
    "img1 = np.array(img)\n",
    "for i in range(k*k):\n",
    "    w.append(random.uniform(0, 1))\n",
    "w= np.array(w)\n",
    "w.reshape(k,k)"
   ]
  }
 ],
 "metadata": {
  "kernelspec": {
   "display_name": "Python 3 (ipykernel)",
   "language": "python",
   "name": "python3"
  },
  "language_info": {
   "codemirror_mode": {
    "name": "ipython",
    "version": 3
   },
   "file_extension": ".py",
   "mimetype": "text/x-python",
   "name": "python",
   "nbconvert_exporter": "python",
   "pygments_lexer": "ipython3",
   "version": "3.9.12"
  }
 },
 "nbformat": 4,
 "nbformat_minor": 5
}
